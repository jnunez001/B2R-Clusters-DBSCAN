{
 "cells": [
  {
   "cell_type": "code",
   "execution_count": 1,
   "id": "2a4491f3-1153-4cef-9e03-e02d200f1adc",
   "metadata": {},
   "outputs": [],
   "source": [
    "import json\n",
    "import os\n",
    "import pandas as pd\n",
    "from collections import defaultdict\n",
    "import numpy \n",
    "import numpy as np\n",
    "import warnings"
   ]
  },
  {
   "cell_type": "code",
   "execution_count": 2,
   "id": "0916ff12-5da7-4f8c-89e0-5f2a6ecc38f8",
   "metadata": {},
   "outputs": [],
   "source": [
    "warnings.filterwarnings('ignore') "
   ]
  },
  {
   "cell_type": "code",
   "execution_count": 3,
   "id": "21d3137b-0809-42a0-9d10-8123cfab4b0a",
   "metadata": {},
   "outputs": [],
   "source": [
    "pd.set_option('display.max_columns', None) # view all columns"
   ]
  },
  {
   "cell_type": "code",
   "execution_count": 4,
   "id": "801a1236-2fa2-4cd1-87c1-055b011453a7",
   "metadata": {},
   "outputs": [],
   "source": [
    "# floats show comma separators by default\n",
    "pd.options.display.float_format = '{:,}'.format"
   ]
  },
  {
   "cell_type": "code",
   "execution_count": 5,
   "id": "671fdfba-6995-4656-9308-1b7576bb12fc",
   "metadata": {},
   "outputs": [],
   "source": [
    "def new_name(clus):\n",
    "    if clus == \"FL_3_30\":\n",
    "        return \"Chatham Walk\"\n",
    "    elif clus == \"FL_9_8\":\n",
    "        return \"Ribbon Grass\"\n",
    "    elif clus == \"FL_3_10\":\n",
    "        return \"Belmont Glen\"\n",
    "    else:\n",
    "        return clus"
   ]
  },
  {
   "cell_type": "code",
   "execution_count": 6,
   "id": "6e487b70-481f-44dc-a1e1-a7827d846312",
   "metadata": {},
   "outputs": [],
   "source": [
    "# go into data directory\n",
    "cur_dir = os.getcwd()\n",
    "data_dir = r\"T:\\Single Family\\SFR\\02. DATABASE\\JSON\\B2R JSON Clusters\\Florida\"\n",
    "\n",
    "# import data from data file\n",
    "os.chdir(data_dir)\n",
    "\n",
    "dir_files = os.listdir()\n",
    "\n",
    "# get state data\n",
    "dir_files = [file for file in dir_files if \"site_plan.json\" in file]\n",
    "dir_files\n",
    "\n",
    "# focus B2R Comminity names\n",
    "passed = ['FL_9_8', 'FL_3_30', 'FL_3_10']\n",
    "\n",
    "# example input file name: 'FL_3_10__B2R_cluster_site_plan.json'\n",
    "# get those of interest in passed list\n",
    "files = [ file for file in dir_files if file.split('__')[0] in passed]"
   ]
  },
  {
   "cell_type": "code",
   "execution_count": 7,
   "id": "63b0f29e-b769-4686-9171-5d9b0e87622c",
   "metadata": {},
   "outputs": [],
   "source": [
    "state_file_name = files[-1]"
   ]
  },
  {
   "cell_type": "code",
   "execution_count": 8,
   "id": "e46300d6-444c-4ef4-bda9-1efae67a6ade",
   "metadata": {},
   "outputs": [
    {
     "name": "stdout",
     "output_type": "stream",
     "text": [
      "FL_3_10\n",
      "FL_3_30\n",
      "FL_9_8\n"
     ]
    }
   ],
   "source": [
    "for state_file_name in files:\n",
    "    \n",
    "    ######################################\n",
    "    # unpack json file\n",
    "\n",
    "    clus = state_file_name.split('__')[0]\n",
    "    print(clus)\n",
    "\n",
    "    os.chdir(data_dir) # go back to data dir\n",
    "    \n",
    "    # read file\n",
    "    with open(state_file_name, 'r') as myfile:\n",
    "        data = myfile.read()\n",
    "\n",
    "    # parse file\n",
    "    obj = json.loads(data)\n",
    "    df = pd.DataFrame(obj)\n",
    "\n",
    "    ######################################\n",
    "    # reorganize df for easier analysis\n",
    "    \n",
    "    bins = [0,1600, 10000]\n",
    "\n",
    "    df['sqft_bin'] = pd.cut(df['SQFT'], bins)\n",
    "    df['Name'] = df['Name'].str.split('th').str[0].tolist()\n",
    "\n",
    "    # focus columns\n",
    "    tdf = pd.DataFrame(list(zip(df['Name'], df['sqft_bin'], df['Rent'], df['DateOfObservation'])),\n",
    "                           columns = ['Characteristics', 'Sqft Bin', 'Rent', 'DateOfObservation'])\n",
    "    # un-nest lists\n",
    "    compdf = tdf.explode(['Rent', 'DateOfObservation']) \n",
    "\n",
    "    # 1st half of year\n",
    "    first_months = [i for i in range(1, 7)]\n",
    "    compdf1st = compdf[pd.to_datetime(compdf['DateOfObservation']).dt.month.isin(first_months)]\n",
    "\n",
    "    # 2nd half of year\n",
    "    last_months = [i for i in range(7, 13)]\n",
    "    compdf2nd = compdf[pd.to_datetime(compdf['DateOfObservation']).dt.month.isin(last_months)]\n",
    "    compdf2nd\n",
    "\n",
    "    ########################################################\n",
    "    # 1st half of year df\n",
    "    \n",
    "    yoy1st = pd.DataFrame(compdf1st.groupby(['Characteristics', 'Sqft Bin', pd.PeriodIndex(compdf1st['DateOfObservation'], freq=\"Y\")], as_index = True)['Rent'].mean())\n",
    "    yoy1st['Percent Diff %'] = yoy1st.pct_change()\n",
    "    yoy1st.insert(0, 'Half of Year', 1)\n",
    "    yoy1st = yoy1st.reset_index()\n",
    "\n",
    "\n",
    "    yoy1st['Sqft Bin'] = [' <1600 sqft' if p == pd.Interval(0.0, 1600.0, closed='right') else ' >1600 sqft' for p in yoy1st['Sqft Bin'].tolist()]\n",
    "    yoy1st['Home Style'] = yoy1st['Characteristics'] + yoy1st['Sqft Bin']\n",
    "\n",
    "    # ----------------\n",
    "    # ignore perc diff from different prev home style\n",
    "    char_list = yoy1st['Home Style'].tolist()\n",
    "    date_list = yoy1st['DateOfObservation'].tolist()\n",
    "    new = yoy1st['Percent Diff %'].tolist()\n",
    "    for i in range(1, len(char_list)):\n",
    "        if char_list[i] != char_list[i-1]: # if not same home style\n",
    "            new[i] = None\n",
    "        if date_list[i] != date_list[i-1] + 1 : # if not consecutive years\n",
    "            new[i] = None\n",
    "    yoy1st['Percent Diff %'] = new\n",
    "    # ----------------\n",
    "\n",
    "    chars = yoy1st['Home Style'] \n",
    "    yoy1st = yoy1st.drop(['Characteristics', 'Sqft Bin', 'Home Style'], axis = 1)\n",
    "    yoy1st.insert(0, 'Home Style', chars)\n",
    "\n",
    "    ########################################################\n",
    "    # 2nd half of year df\n",
    "\n",
    "    yoy2nd = pd.DataFrame(compdf2nd.groupby(['Characteristics', 'Sqft Bin', pd.PeriodIndex(compdf2nd['DateOfObservation'], freq=\"Y\")], as_index = True)['Rent'].mean())\n",
    "    yoy2nd['Percent Diff %'] = yoy2nd.pct_change()\n",
    "    yoy2nd.insert(0, 'Half of Year', 2)\n",
    "    yoy2nd = yoy2nd.reset_index()\n",
    "    yoy2nd\n",
    "\n",
    "    yoy2nd['Sqft Bin'] = [' <1600 sqft' if p == pd.Interval(0.0, 1600.0, closed='right') else ' >1600 sqft' for p in yoy2nd['Sqft Bin'].tolist()]\n",
    "    yoy2nd['Home Style'] = yoy2nd['Characteristics'] + yoy2nd['Sqft Bin']\n",
    "\n",
    "    # ----------------\n",
    "    # ignore perc diff from different prev home style\n",
    "    char_list = yoy2nd['Home Style'].tolist()\n",
    "    date_list = yoy2nd['DateOfObservation'].tolist()\n",
    "    new = yoy2nd['Percent Diff %'].tolist()\n",
    "    for i in range(1, len(char_list)):\n",
    "        if char_list[i] != char_list[i-1]: # if not same home style\n",
    "            new[i] = None\n",
    "        if date_list[i] != date_list[i-1] + 1 : # if not consecutive years\n",
    "            new[i] = None\n",
    "    yoy2nd['Percent Diff %'] = new\n",
    "    # ----------------\n",
    "\n",
    "    chars = yoy2nd['Home Style'] \n",
    "    yoy2nd = yoy2nd.drop(['Characteristics', 'Sqft Bin', 'Home Style'], axis = 1)\n",
    "    yoy2nd.insert(0, 'Home Style', chars)\n",
    "\n",
    "    ########################################################\n",
    "    # Combine Halves\n",
    "\n",
    "    fin = pd.concat([yoy1st, yoy2nd])\n",
    "    fin['DateOfObservation']\n",
    "    fin.reset_index(drop=True, inplace=True)\n",
    "\n",
    "    fin['E2023 Rent'] = None\n",
    "    # estimate rental rates for 2023\n",
    "    for index, row in fin.iterrows():\n",
    "        perc_diff = row['Percent Diff %']\n",
    "        rent = row['Rent']\n",
    "        if (str(row['DateOfObservation']) == '2022') & ~(np.isnan(perc_diff)):\n",
    "            fin.at[index, 'E2023 Rent'] = round(rent + (rent * perc_diff), 2)\n",
    "    #fin['Percent Diff %'] = fin['Percent Diff %'] * 100 # format\n",
    "\n",
    "    # rename and reformat\n",
    "    fin['Date'] = fin['DateOfObservation'].astype(str) + '-' + fin['Half of Year'].astype(str) + 'H'  \n",
    "    fin = fin.drop(['DateOfObservation', 'Half of Year'], axis = 1)\n",
    "\n",
    "    # break by rent and future rent columns and then concatenate them\n",
    "    f1 = fin.pivot_table(['Rent', 'Percent Diff %'], ['Home Style'], ['Date'])\n",
    "    f2 = fin.pivot_table(['E2023 Rent'], ['Home Style'], ['Date'])\n",
    "    \n",
    "    # merge halves tables\n",
    "    final = pd.concat([f1,f2], axis = 1)\n",
    "    #final = final.round(2) \n",
    "    # format\n",
    "    final['Percent Diff %'] = final['Percent Diff %'].round(4)\n",
    "    final['Rent'] = final['Rent'].round(2)\n",
    "    final = final.reindex(sorted(final.columns), axis=1)\n",
    "    final = final.rename({'Percent Diff %': 'Rent % Growth'}, axis=1)  \n",
    "    \n",
    "    this_dir = r\"C:\\Users\\jnunez\\Documents\\Projects\\SFR B2R Community Clustering\\Cluster Analysis\"\n",
    "    os.chdir(this_dir)\n",
    "    clus = new_name(clus)\n",
    "    #yoy1st.to_csv(clus + \"_YOY_1stHalf.csv\", header=True, index=False)\n",
    "    #yoy2nd.to_csv(clus + \"_YOY_2ndHalf.csv\", header=True, index=False)\n",
    "    final.to_csv(clus + \"_YOY.csv\", header=True, index=True)\n",
    "    final.to_excel(clus + \"_YOY.csv\", header=True, index=True)"
   ]
  },
  {
   "cell_type": "code",
   "execution_count": 12,
   "id": "84459ac9-a505-4dd9-900a-09312487e951",
   "metadata": {},
   "outputs": [
    {
     "data": {
      "text/html": [
       "<div>\n",
       "<style scoped>\n",
       "    .dataframe tbody tr th:only-of-type {\n",
       "        vertical-align: middle;\n",
       "    }\n",
       "\n",
       "    .dataframe tbody tr th {\n",
       "        vertical-align: top;\n",
       "    }\n",
       "\n",
       "    .dataframe thead tr th {\n",
       "        text-align: left;\n",
       "    }\n",
       "\n",
       "    .dataframe thead tr:last-of-type th {\n",
       "        text-align: right;\n",
       "    }\n",
       "</style>\n",
       "<table border=\"1\" class=\"dataframe\">\n",
       "  <thead>\n",
       "    <tr>\n",
       "      <th></th>\n",
       "      <th>E2023 Rent</th>\n",
       "      <th colspan=\"2\" halign=\"left\">Rent % Growth</th>\n",
       "      <th colspan=\"4\" halign=\"left\">Rent</th>\n",
       "    </tr>\n",
       "    <tr>\n",
       "      <th>Date</th>\n",
       "      <th>2022-2H</th>\n",
       "      <th>2022-2H</th>\n",
       "      <th>2023-1H</th>\n",
       "      <th>2021-2H</th>\n",
       "      <th>2022-1H</th>\n",
       "      <th>2022-2H</th>\n",
       "      <th>2023-1H</th>\n",
       "    </tr>\n",
       "    <tr>\n",
       "      <th>Home Style</th>\n",
       "      <th></th>\n",
       "      <th></th>\n",
       "      <th></th>\n",
       "      <th></th>\n",
       "      <th></th>\n",
       "      <th></th>\n",
       "      <th></th>\n",
       "    </tr>\n",
       "  </thead>\n",
       "  <tbody>\n",
       "    <tr>\n",
       "      <th>3 Bd 2 Ba &lt;1600 sqft</th>\n",
       "      <td>2,536.54</td>\n",
       "      <td>0.1416</td>\n",
       "      <td>0.0415</td>\n",
       "      <td>1,946.25</td>\n",
       "      <td>2,110.02</td>\n",
       "      <td>2,221.88</td>\n",
       "      <td>2,197.69</td>\n",
       "    </tr>\n",
       "    <tr>\n",
       "      <th>3 Bd 2 Ba &gt;1600 sqft</th>\n",
       "      <td>2,446.16</td>\n",
       "      <td>0.1059</td>\n",
       "      <td>NaN</td>\n",
       "      <td>2,000.0</td>\n",
       "      <td>2,222.81</td>\n",
       "      <td>2,211.86</td>\n",
       "      <td>NaN</td>\n",
       "    </tr>\n",
       "    <tr>\n",
       "      <th>4 Bd 2 Ba &gt;1600 sqft</th>\n",
       "      <td>2,318.57</td>\n",
       "      <td>0.0203</td>\n",
       "      <td>NaN</td>\n",
       "      <td>2,227.26</td>\n",
       "      <td>2,317.43</td>\n",
       "      <td>2,272.46</td>\n",
       "      <td>NaN</td>\n",
       "    </tr>\n",
       "    <tr>\n",
       "      <th>4 Bd 2.5 Ba &gt;1600 sqft</th>\n",
       "      <td>NaN</td>\n",
       "      <td>NaN</td>\n",
       "      <td>NaN</td>\n",
       "      <td>NaN</td>\n",
       "      <td>2,403.75</td>\n",
       "      <td>2,422.86</td>\n",
       "      <td>NaN</td>\n",
       "    </tr>\n",
       "    <tr>\n",
       "      <th>4 Bd 3 Ba &gt;1600 sqft</th>\n",
       "      <td>2,961.11</td>\n",
       "      <td>0.1235</td>\n",
       "      <td>NaN</td>\n",
       "      <td>2,346.07</td>\n",
       "      <td>2,396.36</td>\n",
       "      <td>2,635.71</td>\n",
       "      <td>NaN</td>\n",
       "    </tr>\n",
       "    <tr>\n",
       "      <th>5 Bd 3.5 Ba &gt;1600 sqft</th>\n",
       "      <td>NaN</td>\n",
       "      <td>NaN</td>\n",
       "      <td>NaN</td>\n",
       "      <td>2,580.0</td>\n",
       "      <td>2,743.44</td>\n",
       "      <td>NaN</td>\n",
       "      <td>NaN</td>\n",
       "    </tr>\n",
       "  </tbody>\n",
       "</table>\n",
       "</div>"
      ],
      "text/plain": [
       "                       E2023 Rent Rent % Growth             Rent           \\\n",
       "Date                      2022-2H       2022-2H 2023-1H  2021-2H  2022-1H   \n",
       "Home Style                                                                  \n",
       "3 Bd 2 Ba <1600 sqft     2,536.54        0.1416  0.0415 1,946.25 2,110.02   \n",
       "3 Bd 2 Ba >1600 sqft     2,446.16        0.1059     NaN  2,000.0 2,222.81   \n",
       "4 Bd 2 Ba >1600 sqft     2,318.57        0.0203     NaN 2,227.26 2,317.43   \n",
       "4 Bd 2.5 Ba >1600 sqft        NaN           NaN     NaN      NaN 2,403.75   \n",
       "4 Bd 3 Ba >1600 sqft     2,961.11        0.1235     NaN 2,346.07 2,396.36   \n",
       "5 Bd 3.5 Ba >1600 sqft        NaN           NaN     NaN  2,580.0 2,743.44   \n",
       "\n",
       "                                          \n",
       "Date                    2022-2H  2023-1H  \n",
       "Home Style                                \n",
       "3 Bd 2 Ba <1600 sqft   2,221.88 2,197.69  \n",
       "3 Bd 2 Ba >1600 sqft   2,211.86      NaN  \n",
       "4 Bd 2 Ba >1600 sqft   2,272.46      NaN  \n",
       "4 Bd 2.5 Ba >1600 sqft 2,422.86      NaN  \n",
       "4 Bd 3 Ba >1600 sqft   2,635.71      NaN  \n",
       "5 Bd 3.5 Ba >1600 sqft      NaN      NaN  "
      ]
     },
     "execution_count": 12,
     "metadata": {},
     "output_type": "execute_result"
    }
   ],
   "source": [
    "final"
   ]
  },
  {
   "cell_type": "markdown",
   "id": "3f94f4fa-7a12-4a04-92ba-60229d52eb4c",
   "metadata": {},
   "source": [
    "# Ignore"
   ]
  },
  {
   "cell_type": "code",
   "execution_count": null,
   "id": "2969487a-6da4-4359-a60e-00d5a6804a37",
   "metadata": {},
   "outputs": [],
   "source": [
    "stop"
   ]
  },
  {
   "cell_type": "code",
   "execution_count": null,
   "id": "68b8ea4d-2484-48df-8b20-6e610e18ba67",
   "metadata": {},
   "outputs": [],
   "source": [
    "df['Rent % Growth'] = df['Rent % Growth'].apply(lambda x: \"${:.1f}k\".format((x/1000)))"
   ]
  },
  {
   "cell_type": "code",
   "execution_count": 10,
   "id": "237bfe03-2c0a-4d4b-94dc-de310965ba5e",
   "metadata": {},
   "outputs": [
    {
     "data": {
      "text/plain": [
       "MultiIndex([(   'E2023 Rent', '2022-2H'),\n",
       "            ('Rent % Growth', '2022-2H'),\n",
       "            ('Rent % Growth', '2023-1H'),\n",
       "            (         'Rent', '2021-2H'),\n",
       "            (         'Rent', '2022-1H'),\n",
       "            (         'Rent', '2022-2H'),\n",
       "            (         'Rent', '2023-1H')],\n",
       "           names=[None, 'Date'])"
      ]
     },
     "execution_count": 10,
     "metadata": {},
     "output_type": "execute_result"
    }
   ],
   "source": [
    "final.columns"
   ]
  },
  {
   "cell_type": "code",
   "execution_count": 11,
   "id": "abe11329-10bc-4add-a2dc-58c7872d162b",
   "metadata": {},
   "outputs": [
    {
     "ename": "SyntaxError",
     "evalue": "invalid syntax (3896579830.py, line 1)",
     "output_type": "error",
     "traceback": [
      "\u001b[1;36m  File \u001b[1;32m\"C:\\Users\\jnunez\\AppData\\Local\\Temp\\ipykernel_3848\\3896579830.py\"\u001b[1;36m, line \u001b[1;32m1\u001b[0m\n\u001b[1;33m    final[].columns\u001b[0m\n\u001b[1;37m          ^\u001b[0m\n\u001b[1;31mSyntaxError\u001b[0m\u001b[1;31m:\u001b[0m invalid syntax\n"
     ]
    }
   ],
   "source": [
    "final[].columns"
   ]
  },
  {
   "cell_type": "code",
   "execution_count": null,
   "id": "286ae877-94ff-430b-b08a-091fa4e26396",
   "metadata": {},
   "outputs": [],
   "source": [
    "final.columns = [(    'E2023 Rent', '2022-2H'),\n",
    "            ('Percent Diff %', 'k'),\n",
    "            ('Percent Diff %', 'k'),\n",
    "            (          'Rent', '2021-2H'),\n",
    "            (          'Rent', '2022-1H'),\n",
    "            (          'Rent', '2022-2H'),\n",
    "            (          'Rent', '2023-1H')]"
   ]
  },
  {
   "cell_type": "code",
   "execution_count": null,
   "id": "ace3079b-7b9f-4a39-a19e-4425c86ad6ed",
   "metadata": {},
   "outputs": [],
   "source": [
    "final"
   ]
  },
  {
   "cell_type": "code",
   "execution_count": null,
   "id": "a7d6dfd8-e6e3-4d84-b5a1-4998e3bb2e98",
   "metadata": {},
   "outputs": [],
   "source": [
    "final.rename({'Percent Diff %': 'Rent % Growth'}, axis=1)  # new method"
   ]
  },
  {
   "cell_type": "code",
   "execution_count": 13,
   "id": "d1af715b-4919-4819-ac0d-bcd89201bdd1",
   "metadata": {},
   "outputs": [
    {
     "data": {
      "text/plain": [
       "676"
      ]
     },
     "execution_count": 13,
     "metadata": {},
     "output_type": "execute_result"
    }
   ],
   "source": [
    "3177 - 2501"
   ]
  },
  {
   "cell_type": "code",
   "execution_count": null,
   "id": "c441c486-ae23-41d7-8121-acf1d72584c9",
   "metadata": {},
   "outputs": [],
   "source": [
    "fin.pivot_table([ 'Rent'], ['Home Style'], ['Date'])\n"
   ]
  },
  {
   "cell_type": "code",
   "execution_count": null,
   "id": "7788e350-bbfd-4fcd-8e39-7f12cbe10e00",
   "metadata": {},
   "outputs": [],
   "source": [
    "fin.pivot_table('Rent', ['Home Style'], 'Date')\n"
   ]
  },
  {
   "cell_type": "code",
   "execution_count": null,
   "id": "912f0782-ea70-46dc-ae9d-76db6eca45f1",
   "metadata": {},
   "outputs": [],
   "source": [
    "fin.pivot_table([ 'Percent Diff %', 'Rent'], ['Home Style'], 'Date')\n"
   ]
  },
  {
   "cell_type": "code",
   "execution_count": null,
   "id": "290a9a0d-d985-4352-9e41-6a16e421706f",
   "metadata": {},
   "outputs": [],
   "source": [
    "# good\n",
    "yoy1st = pd.DataFrame(compdf1st.groupby(pd.PeriodIndex(compdf1st['DateOfObservation'], freq=\"Y\"), as_index = True)['Rent'].mean())\n",
    "yoy1st['Percent Diff %'] = yoy1st.pct_change()\n",
    "yoy1st.insert(0, 'Half of Year', 1)\n",
    "yoy1st = yoy1st.reset_index()\n",
    "yoy1st.insert(0, 'Characteristics', 'la')\n",
    "yoy1st"
   ]
  },
  {
   "cell_type": "code",
   "execution_count": null,
   "id": "98563c70-324a-4e64-ae0e-444382ef4a78",
   "metadata": {},
   "outputs": [],
   "source": []
  },
  {
   "cell_type": "code",
   "execution_count": null,
   "id": "3cb4d5dd-0d55-4e00-b688-8dc05a314835",
   "metadata": {},
   "outputs": [],
   "source": [
    "compdf = tdf.explode(['Rent', 'DateOfObservation'])"
   ]
  },
  {
   "cell_type": "code",
   "execution_count": null,
   "id": "b269d568-736b-4ccd-81eb-695bd915fefa",
   "metadata": {},
   "outputs": [],
   "source": [
    "compdf.DateOfObservation.min()"
   ]
  },
  {
   "cell_type": "code",
   "execution_count": null,
   "id": "9a87a81c-bd21-475e-8b33-54fa5be27e55",
   "metadata": {},
   "outputs": [],
   "source": [
    "compdf['DateOfObservation'] = pd.to_datetime(compdf['DateOfObservation'])"
   ]
  },
  {
   "cell_type": "code",
   "execution_count": null,
   "id": "5d300067-32a7-42a1-b809-3adcb47b702a",
   "metadata": {},
   "outputs": [],
   "source": [
    "compdf.resample('6M', on='DateOfObservation').mean()"
   ]
  },
  {
   "cell_type": "code",
   "execution_count": null,
   "id": "41e28078-9239-4b75-8dd3-855ae372afde",
   "metadata": {},
   "outputs": [],
   "source": [
    "compdf.groupby(compdf['DateOfObservation'].dt.to_period('Q')).mean()"
   ]
  },
  {
   "cell_type": "code",
   "execution_count": null,
   "id": "9d42c0ad-d17a-4cb6-9034-0912af17a2d1",
   "metadata": {},
   "outputs": [],
   "source": [
    "compdf.groupby(compdf['DateOfObservation'].dt.to_period('2Y')).mean()"
   ]
  },
  {
   "cell_type": "code",
   "execution_count": null,
   "id": "471f3e9f-5c7e-45b2-b307-309ec5a802ce",
   "metadata": {},
   "outputs": [],
   "source": [
    "\n",
    "pd.DataFrame(compdf.resample('6M', on='DateOfObservation')['Rent'].mean())\n"
   ]
  }
 ],
 "metadata": {
  "kernelspec": {
   "display_name": "Python 3 (ipykernel)",
   "language": "python",
   "name": "python3"
  },
  "language_info": {
   "codemirror_mode": {
    "name": "ipython",
    "version": 3
   },
   "file_extension": ".py",
   "mimetype": "text/x-python",
   "name": "python",
   "nbconvert_exporter": "python",
   "pygments_lexer": "ipython3",
   "version": "3.9.13"
  }
 },
 "nbformat": 4,
 "nbformat_minor": 5
}

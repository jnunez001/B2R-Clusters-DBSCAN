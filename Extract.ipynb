{
 "cells": [
  {
   "cell_type": "markdown",
   "id": "9b367bf9-6a8f-4a7f-b5a7-8db09845bbf5",
   "metadata": {},
   "source": [
    "\"\"\"Extract nested values from a JSON tree.\"\"\"\n",
    "\n",
    "\n",
    "def json_extract(obj, key):\n",
    "    \"\"\"Recursively fetch values from nested JSON.\"\"\"\n",
    "    arr = []\n",
    "\n",
    "    def extract(obj, arr, key):\n",
    "        \"\"\"Recursively search for values of key in JSON tree.\"\"\"\n",
    "        if isinstance(obj, dict):\n",
    "            for k, v in obj.items():\n",
    "                if isinstance(v, (dict, list)):\n",
    "                    extract(v, arr, key)\n",
    "                elif k == key:\n",
    "                    arr.append(v)\n",
    "        elif isinstance(obj, list):\n",
    "            for item in obj:\n",
    "                extract(item, arr, key)\n",
    "        return arr\n",
    "\n",
    "    values = extract(obj, arr, key)\n",
    "    return values"
   ]
  },
  {
   "cell_type": "code",
   "execution_count": 8,
   "id": "9fc9f3c4-846d-4e0b-8375-a8d166db617d",
   "metadata": {},
   "outputs": [],
   "source": [
    "\"\"\"Extract nested values from a JSON tree.\"\"\"\n",
    "\n",
    "\n",
    "def json_extract(obj, key):\n",
    "    \"\"\"Recursively fetch values from nested JSON.\"\"\"\n",
    "    arr = []\n",
    "\n",
    "    def extract(obj, arr, key):\n",
    "        \"\"\"Recursively search for values of key in JSON tree.\"\"\"\n",
    "        if isinstance(obj, dict):\n",
    "            for k, v in obj.items():\n",
    "                if isinstance(v, (dict, list)):\n",
    "                    extract(v, arr, key)\n",
    "                elif k == key:\n",
    "                    arr.append(v)\n",
    "        elif isinstance(obj, list):\n",
    "            for item in obj:\n",
    "                extract(item, arr, key)\n",
    "                #arr.append(obj)\n",
    "        return arr\n",
    "\n",
    "    values = extract(obj, arr, key)\n",
    "    return values"
   ]
  },
  {
   "cell_type": "code",
   "execution_count": 10,
   "id": "34d1053a-c835-48fa-8935-18d1851bcbfe",
   "metadata": {},
   "outputs": [],
   "source": [
    "!nbstripout JSON_files.ipynb"
   ]
  },
  {
   "cell_type": "code",
   "execution_count": 11,
   "id": "4c295c4a-1afd-46e2-b596-95647362efb6",
   "metadata": {},
   "outputs": [],
   "source": [
    "from collections import defaultdict\n"
   ]
  },
  {
   "cell_type": "code",
   "execution_count": 9,
   "id": "18a4e5f1-52a8-4545-a29c-015cc1271807",
   "metadata": {},
   "outputs": [],
   "source": [
    "def recursive_parser(entry: dict, data_dict: dict, col_name: str = \"\") -> dict:\n",
    "    \"\"\"Recursive parser for a list of nested JSON objects\n",
    "    \n",
    "    Args:\n",
    "        entry (dict): A dictionary representing a single entry (row) of the final data frame.\n",
    "        data_dict (dict): Accumulator holding the current parsed data.\n",
    "        col_name (str): Accumulator holding the current column name. Defaults to empty string.\n",
    "    \"\"\"\n",
    "    for key, val in entry.items():\n",
    "        extended_col_name = f\"{col_name}_{key}\" if col_name else key\n",
    "        if isinstance(val, dict):\n",
    "            recursive_parser(entry[key], data_dict, extended_col_name)\n",
    "        else:\n",
    "            data_dict[extended_col_name].append(val)\n",
    "\n",
    "\n"
   ]
  },
  {
   "cell_type": "code",
   "execution_count": null,
   "id": "1d47ce20-0950-4983-8038-78ddb798d0a9",
   "metadata": {},
   "outputs": [],
   "source": []
  }
 ],
 "metadata": {
  "kernelspec": {
   "display_name": "Python 3 (ipykernel)",
   "language": "python",
   "name": "python3"
  },
  "language_info": {
   "codemirror_mode": {
    "name": "ipython",
    "version": 3
   },
   "file_extension": ".py",
   "mimetype": "text/x-python",
   "name": "python",
   "nbconvert_exporter": "python",
   "pygments_lexer": "ipython3",
   "version": "3.11.0"
  }
 },
 "nbformat": 4,
 "nbformat_minor": 5
}
